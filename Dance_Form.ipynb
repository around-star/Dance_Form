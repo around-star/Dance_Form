{
  "nbformat": 4,
  "nbformat_minor": 0,
  "metadata": {
    "colab": {
      "name": "Dance_Form.ipynb",
      "provenance": [],
      "collapsed_sections": [],
      "authorship_tag": "ABX9TyMqsYsQrTeW57HrPKvJ6fhw",
      "include_colab_link": true
    },
    "kernelspec": {
      "name": "python3",
      "display_name": "Python 3"
    },
    "accelerator": "TPU"
  },
  "cells": [
    {
      "cell_type": "markdown",
      "metadata": {
        "id": "view-in-github",
        "colab_type": "text"
      },
      "source": [
        "<a href=\"https://colab.research.google.com/github/around-star/Dance_Form/blob/master/Dance_Form.ipynb\" target=\"_parent\"><img src=\"https://colab.research.google.com/assets/colab-badge.svg\" alt=\"Open In Colab\"/></a>"
      ]
    },
    {
      "cell_type": "markdown",
      "metadata": {
        "id": "Ui5HMjySaAC-",
        "colab_type": "text"
      },
      "source": [
        "##Dance Form Prediction"
      ]
    },
    {
      "cell_type": "code",
      "metadata": {
        "id": "RcJ8cEoJsOy9",
        "colab_type": "code",
        "colab": {}
      },
      "source": [
        "import cv2 as cv\n",
        "import numpy as np\n",
        "import os\n",
        "import tensorflow as tf\n",
        "import pandas as pd \n",
        "import csv\n",
        "from google.colab.patches import cv2_imshow"
      ],
      "execution_count": 1,
      "outputs": []
    },
    {
      "cell_type": "code",
      "metadata": {
        "id": "lz0WLXkXsWsL",
        "colab_type": "code",
        "colab": {
          "base_uri": "https://localhost:8080/",
          "height": 122
        },
        "outputId": "5cb22e50-c345-44a2-8b40-d081ef0a62fd"
      },
      "source": [
        "from google.colab import drive\n",
        "drive.mount('/gdrive')\n",
        "os.chdir('/gdrive/My Drive')"
      ],
      "execution_count": 2,
      "outputs": [
        {
          "output_type": "stream",
          "text": [
            "Go to this URL in a browser: https://accounts.google.com/o/oauth2/auth?client_id=947318989803-6bn6qk8qdgf4n4g3pfee6491hc0brc4i.apps.googleusercontent.com&redirect_uri=urn%3aietf%3awg%3aoauth%3a2.0%3aoob&response_type=code&scope=email%20https%3a%2f%2fwww.googleapis.com%2fauth%2fdocs.test%20https%3a%2f%2fwww.googleapis.com%2fauth%2fdrive%20https%3a%2f%2fwww.googleapis.com%2fauth%2fdrive.photos.readonly%20https%3a%2f%2fwww.googleapis.com%2fauth%2fpeopleapi.readonly\n",
            "\n",
            "Enter your authorization code:\n",
            "··········\n",
            "Mounted at /gdrive\n"
          ],
          "name": "stdout"
        }
      ]
    },
    {
      "cell_type": "code",
      "metadata": {
        "id": "LH7Ul2ubtG8k",
        "colab_type": "code",
        "colab": {}
      },
      "source": [
        "files_direc=\"dataset/train\"\n",
        "test_direc=\"dataset/test\"\n",
        "df = pd.read_csv('dataset/train.csv')\n",
        "test_df = pd.read_csv('dataset/test.csv')"
      ],
      "execution_count": 3,
      "outputs": []
    },
    {
      "cell_type": "code",
      "metadata": {
        "id": "oD6J-ohUyvG_",
        "colab_type": "code",
        "colab": {
          "base_uri": "https://localhost:8080/",
          "height": 359
        },
        "outputId": "897ff721-4907-4f30-c133-cbb53da84d10"
      },
      "source": [
        "df.head(10)"
      ],
      "execution_count": 4,
      "outputs": [
        {
          "output_type": "execute_result",
          "data": {
            "text/html": [
              "<div>\n",
              "<style scoped>\n",
              "    .dataframe tbody tr th:only-of-type {\n",
              "        vertical-align: middle;\n",
              "    }\n",
              "\n",
              "    .dataframe tbody tr th {\n",
              "        vertical-align: top;\n",
              "    }\n",
              "\n",
              "    .dataframe thead th {\n",
              "        text-align: right;\n",
              "    }\n",
              "</style>\n",
              "<table border=\"1\" class=\"dataframe\">\n",
              "  <thead>\n",
              "    <tr style=\"text-align: right;\">\n",
              "      <th></th>\n",
              "      <th>Image</th>\n",
              "      <th>target</th>\n",
              "    </tr>\n",
              "  </thead>\n",
              "  <tbody>\n",
              "    <tr>\n",
              "      <th>0</th>\n",
              "      <td>96.jpg</td>\n",
              "      <td>manipuri</td>\n",
              "    </tr>\n",
              "    <tr>\n",
              "      <th>1</th>\n",
              "      <td>163.jpg</td>\n",
              "      <td>bharatanatyam</td>\n",
              "    </tr>\n",
              "    <tr>\n",
              "      <th>2</th>\n",
              "      <td>450.jpg</td>\n",
              "      <td>odissi</td>\n",
              "    </tr>\n",
              "    <tr>\n",
              "      <th>3</th>\n",
              "      <td>219.jpg</td>\n",
              "      <td>kathakali</td>\n",
              "    </tr>\n",
              "    <tr>\n",
              "      <th>4</th>\n",
              "      <td>455.jpg</td>\n",
              "      <td>odissi</td>\n",
              "    </tr>\n",
              "    <tr>\n",
              "      <th>5</th>\n",
              "      <td>46.jpg</td>\n",
              "      <td>kathak</td>\n",
              "    </tr>\n",
              "    <tr>\n",
              "      <th>6</th>\n",
              "      <td>326.jpg</td>\n",
              "      <td>sattriya</td>\n",
              "    </tr>\n",
              "    <tr>\n",
              "      <th>7</th>\n",
              "      <td>408.jpg</td>\n",
              "      <td>kuchipudi</td>\n",
              "    </tr>\n",
              "    <tr>\n",
              "      <th>8</th>\n",
              "      <td>365.jpg</td>\n",
              "      <td>sattriya</td>\n",
              "    </tr>\n",
              "    <tr>\n",
              "      <th>9</th>\n",
              "      <td>422.jpg</td>\n",
              "      <td>kuchipudi</td>\n",
              "    </tr>\n",
              "  </tbody>\n",
              "</table>\n",
              "</div>"
            ],
            "text/plain": [
              "     Image         target\n",
              "0   96.jpg       manipuri\n",
              "1  163.jpg  bharatanatyam\n",
              "2  450.jpg         odissi\n",
              "3  219.jpg      kathakali\n",
              "4  455.jpg         odissi\n",
              "5   46.jpg         kathak\n",
              "6  326.jpg       sattriya\n",
              "7  408.jpg      kuchipudi\n",
              "8  365.jpg       sattriya\n",
              "9  422.jpg      kuchipudi"
            ]
          },
          "metadata": {
            "tags": []
          },
          "execution_count": 4
        }
      ]
    },
    {
      "cell_type": "code",
      "metadata": {
        "id": "bfUSV2Lt29Y4",
        "colab_type": "code",
        "colab": {}
      },
      "source": [
        "def one_hot_encode(data, val=8):\n",
        "  n = len(data)\n",
        "  a = np.zeros((n,val))\n",
        "  a[range(n) , data] = 1\n",
        "  return a"
      ],
      "execution_count": 5,
      "outputs": []
    },
    {
      "cell_type": "code",
      "metadata": {
        "id": "z8SKPH2AM6j6",
        "colab_type": "code",
        "colab": {}
      },
      "source": [
        "embed={}\n",
        "embed_data={}\n",
        "\n",
        "def data_augment(direc):\n",
        "\n",
        "  x_train = df['Image']\n",
        "  y_train = df['target']\n",
        "  j=0\n",
        "\n",
        "  x_batch = []\n",
        "  y = []\n",
        "  for i in y_train.unique():\n",
        "    embed[i]=j\n",
        "    embed_data[j]=i\n",
        "    j+=1\n",
        "  for k in range(len(x_train)):\n",
        "    arr = cv.resize(cv.imread(os.path.join(direc , x_train[k])) , (200,200) )\n",
        "    aug1 = tf.keras.preprocessing.image.random_shift(arr, 0.3, 0.5)\n",
        "    aug2 = tf.image.flip_left_right(arr)\n",
        "    aug3 = tf.image.adjust_brightness(arr, 0.5)\n",
        "    aug4 = tf.image.flip_left_right(aug3)\n",
        "    aug5 = tf.image.adjust_brightness(aug2, 0.5)\n",
        "    aug =[arr,aug1, aug2, aug3, aug4, aug5]\n",
        "    [x_batch.append(i) for i in aug]\n",
        "\n",
        "    [y.append(embed[y_train[k]]) for _ in range(len(aug))]\n",
        "    \n",
        "  y_batch = one_hot_encode(y)\n",
        "  \n",
        "  x_batch = np.stack(x_batch , axis = 0)\n",
        "\n",
        "\n",
        "  return x_batch , y_batch\n",
        "\n",
        "x_full,y_full = data_augment(files_direc)"
      ],
      "execution_count": 6,
      "outputs": []
    },
    {
      "cell_type": "code",
      "metadata": {
        "id": "4q7kuiQlT8of",
        "colab_type": "code",
        "colab": {}
      },
      "source": [
        "np.expand_dims(x_full[0], axis=0)"
      ],
      "execution_count": null,
      "outputs": []
    },
    {
      "cell_type": "code",
      "metadata": {
        "id": "ViYheGzzOolN",
        "colab_type": "code",
        "colab": {}
      },
      "source": [
        "def create_batch(batch_size=10):\n",
        "  x_batch=[]\n",
        "  index = np.random.randint(len(x_full) , size = batch_size)\n",
        "  x_batch = [x_full[i] for i in index]\n",
        "  x_batch = np.stack(x_batch, axis=0)\n",
        "\n",
        "  y_batch = [y_full[i] for i in index]\n",
        "  y_batch = np.stack(y_batch, axis=0)\n",
        "\n",
        "  return x_batch, y_batch"
      ],
      "execution_count": 30,
      "outputs": []
    },
    {
      "cell_type": "code",
      "metadata": {
        "id": "KPAt_uCzQLn5",
        "colab_type": "code",
        "colab": {
          "base_uri": "https://localhost:8080/",
          "height": 68
        },
        "outputId": "de5d2b6a-e7e9-4100-b7a6-ba792e9fcf92"
      },
      "source": [
        "x_check , y_check= create_batch()\n",
        "y_check[0:3]"
      ],
      "execution_count": 31,
      "outputs": [
        {
          "output_type": "execute_result",
          "data": {
            "text/plain": [
              "array([[0., 0., 0., 1., 0., 0., 0., 0.],\n",
              "       [0., 0., 0., 0., 0., 0., 1., 0.],\n",
              "       [1., 0., 0., 0., 0., 0., 0., 0.]])"
            ]
          },
          "metadata": {
            "tags": []
          },
          "execution_count": 31
        }
      ]
    },
    {
      "cell_type": "code",
      "metadata": {
        "id": "lhmimNZfSk6I",
        "colab_type": "code",
        "colab": {
          "base_uri": "https://localhost:8080/",
          "height": 51
        },
        "outputId": "c3c366e9-bb91-4b4c-9cf8-0f0888cef141"
      },
      "source": [
        "def create_model(x_shape):\n",
        "  pretrained_model = tf.keras.applications.ResNet50(include_top=False, input_shape=x_shape)\n",
        "  for i,layer in enumerate(pretrained_model.layers):\n",
        "    if(i <= 60):\n",
        "      layer.trainable = False\n",
        "    \n",
        "  #x = tf.keras.layers.Conv2D(128, kernel_size=(7, 7), strides=(1,1), padding='valid', activation='relu')(x)\n",
        "  x = tf.keras.layers.BatchNormalization()(pretrained_model.output)\n",
        "  #x = tf.keras.layers.MaxPool2D(pool_size=(2,2), strides=(2,2), padding='valid')(x)\n",
        "\n",
        "  x = tf.keras.layers.Flatten()(x)\n",
        "  x = tf.keras.layers.Dense(1024, activation='relu')(x)\n",
        "\n",
        "  x = tf.keras.layers.Dropout(rate=0.5)(x)\n",
        "\n",
        "  outputs = tf.keras.layers.Dense(8)(x)\n",
        "\n",
        "  model = tf.keras.Model(inputs=pretrained_model.input , outputs=outputs)\n",
        "\n",
        "  return model\n",
        "\n",
        "\n",
        "model= create_model(x_shape = x_full[0].shape)"
      ],
      "execution_count": 10,
      "outputs": [
        {
          "output_type": "stream",
          "text": [
            "Downloading data from https://storage.googleapis.com/tensorflow/keras-applications/resnet/resnet50_weights_tf_dim_ordering_tf_kernels_notop.h5\n",
            "94773248/94765736 [==============================] - 1s 0us/step\n"
          ],
          "name": "stdout"
        }
      ]
    },
    {
      "cell_type": "code",
      "metadata": {
        "id": "MOKbwMT48fOE",
        "colab_type": "code",
        "colab": {}
      },
      "source": [
        "def compute_loss(y_pred , y_true):\n",
        "  loss = tf.reduce_mean(tf.nn.softmax_cross_entropy_with_logits(y_true, y_pred))\n",
        "  return loss"
      ],
      "execution_count": 11,
      "outputs": []
    },
    {
      "cell_type": "code",
      "metadata": {
        "id": "_Vj979O2F3w4",
        "colab_type": "code",
        "colab": {}
      },
      "source": [
        "optimizer = tf.keras.optimizers.Adam(learning_rate=0.001)\n",
        "def train_step():\n",
        "  with tf.GradientTape() as tape:\n",
        "    x,y = create_batch(10)\n",
        "    y_pred = model(x)\n",
        "\n",
        "    loss = compute_loss(y_pred , y)\n",
        "\n",
        "  grads = tape.gradient(loss , model.variables)\n",
        "  \n",
        "  optimizer.apply_gradients(zip(grads , model.variables))\n"
      ],
      "execution_count": 12,
      "outputs": []
    },
    {
      "cell_type": "code",
      "metadata": {
        "id": "8G6JOgykBde8",
        "colab_type": "code",
        "colab": {}
      },
      "source": [
        "iteration = 100\n",
        "for iterate in range(iteration):\n",
        "  train_step()\n"
      ],
      "execution_count": null,
      "outputs": []
    },
    {
      "cell_type": "code",
      "metadata": {
        "id": "wZBZA9LdB1mH",
        "colab_type": "code",
        "colab": {
          "base_uri": "https://localhost:8080/",
          "height": 34
        },
        "outputId": "ebf6ac05-2f16-4722-a1c2-dd453ced499a"
      },
      "source": [
        "def predict(x):\n",
        "  y_predict = model(x)\n",
        "  y_predict = np.argmax(y_predict, axis=1)\n",
        "\n",
        "  return y_predict\n",
        "\n",
        "print(embed_data[predict(np.expand_dims(x_check[6], axis=0))[0]])"
      ],
      "execution_count": 56,
      "outputs": [
        {
          "output_type": "stream",
          "text": [
            "odissi\n"
          ],
          "name": "stdout"
        }
      ]
    },
    {
      "cell_type": "code",
      "metadata": {
        "id": "Vcl3FNI6VmxQ",
        "colab_type": "code",
        "colab": {
          "base_uri": "https://localhost:8080/",
          "height": 35
        },
        "outputId": "11404c19-9cb5-434f-d569-bd5ab65a597e"
      },
      "source": [
        "embed_data[np.argmax(y_check[6], axis=-1)]"
      ],
      "execution_count": 55,
      "outputs": [
        {
          "output_type": "execute_result",
          "data": {
            "application/vnd.google.colaboratory.intrinsic": {
              "type": "string"
            },
            "text/plain": [
              "'odissi'"
            ]
          },
          "metadata": {
            "tags": []
          },
          "execution_count": 55
        }
      ]
    },
    {
      "cell_type": "markdown",
      "metadata": {
        "id": "nB5RiqFUZ0LC",
        "colab_type": "text"
      },
      "source": [
        "##Storing the test results in a csv file"
      ]
    },
    {
      "cell_type": "code",
      "metadata": {
        "id": "hJDyeHfvdYtb",
        "colab_type": "code",
        "colab": {}
      },
      "source": [
        "def test(direc):\n",
        "  img_data = test_df['Image']\n",
        "  with open('result.csv', 'w', newline='') as f:\n",
        "    thewriter = csv.writer(f)\n",
        "\n",
        "    for i in img_data:\n",
        "      img = cv.resize(cv.imread(os.path.join(direc,i)) , (200,200))\n",
        "\n",
        "      y_pred = predict(np.expand_dims(img, axis=0))\n",
        "\n",
        "\n",
        "      thewriter.writerow([i, y_pred])\n",
        "\n",
        "test(test_direc)"
      ],
      "execution_count": null,
      "outputs": []
    },
    {
      "cell_type": "code",
      "metadata": {
        "id": "4SmHSr2xtqEq",
        "colab_type": "code",
        "colab": {}
      },
      "source": [
        ""
      ],
      "execution_count": null,
      "outputs": []
    }
  ]
}